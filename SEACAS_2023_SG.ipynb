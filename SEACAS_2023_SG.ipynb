{
  "cells": [
    {
      "cell_type": "markdown",
      "metadata": {
        "id": "view-in-github",
        "colab_type": "text"
      },
      "source": [
        "<a href=\"https://colab.research.google.com/github/HUJH511/SEACAS-2023-SG/blob/main/SEACAS_2023_SG.ipynb\" target=\"_parent\"><img src=\"https://colab.research.google.com/assets/colab-badge.svg\" alt=\"Open In Colab\"/></a>"
      ]
    },
    {
      "cell_type": "markdown",
      "metadata": {
        "id": "Fe2p15-MWAtB"
      },
      "source": [
        "# SEACAS Hackathon 2023:\n",
        "\n",
        "## Team: **Singapore**\n",
        "\n",
        "About:\n",
        "\n",
        "This iPython Notebook contains a design flow on OpenLane of the baseline FFT implementation, which can be found [here](https://github.com/ameyk1/Fast-Fourier-Transform/tree/master).\n",
        "\n",
        "First, we'll need to clone this github repository and transfer the files to the root folder of the colab runtime.\n",
        "\n",
        "## Evaluation Metrics\n",
        "\n",
        "The results will be evaluated using the following metrics, most of which you will obtain at the end:\n",
        "\n",
        "1.   CoreArea_um^2\n",
        "2.   power_typical_switching_uW\n",
        "3.   power_typical_internal_uW\n",
        "4.   suggested_clock_period\n",
        "5.   **time at `$finish` in ns**. Please do `$display(\"Final time: %0t\",$time);` before calling `$finish`.\n",
        "6.   **16-point output signal**, as shown with the sample baseline testbench.\n",
        "\n",
        "Ideally, your design should have no DRC or LVS errors:\n",
        "\n",
        "1.   lvs_total_errors = 0\n",
        "2.   Magic_violations = 0\n",
        "3.   klayout_violations = -1\n",
        "\n",
        "Please include all of these in the final report presentation!"
      ]
    },
    {
      "cell_type": "code",
      "execution_count": 13,
      "metadata": {
        "colab": {
          "base_uri": "https://localhost:8080/"
        },
        "id": "qgEyLQwTTX1N",
        "outputId": "79191cab-b51b-4eae-fda3-a42eac047970"
      },
      "outputs": [
        {
          "output_type": "stream",
          "name": "stdout",
          "text": [
            "fatal: destination path 'Fast-Fourier-Transform' already exists and is not an empty directory.\n",
            "mv: cannot stat 'Fast-Fourier-Transform/rtl/*': No such file or directory\n",
            "mkdir: cannot create directory ‘tb’: File exists\n",
            "mv: cannot stat 'Fast-Fourier-Transform/matlab/data_in.m': No such file or directory\n"
          ]
        }
      ],
      "source": [
        "!git clone https://github.com/ameyk1/Fast-Fourier-Transform.git\n",
        "!mv Fast-Fourier-Transform/rtl/* .\n",
        "!mkdir tb\n",
        "!mv Fast-Fourier-Transform/matlab/data_in.m tb/"
      ]
    },
    {
      "cell_type": "code",
      "execution_count": 14,
      "metadata": {
        "colab": {
          "base_uri": "https://localhost:8080/"
        },
        "id": "LipSC6pRVJAT",
        "outputId": "f2c44e06-3f66-4e44-ed84-25404cbd4bc6"
      },
      "outputs": [
        {
          "output_type": "stream",
          "name": "stdout",
          "text": [
            "Empty environment created at prefix: /content/conda-env\n",
            "\n",
            "Pinned packages:\n",
            "  - python 3.7*\n",
            "\n",
            "\n",
            "Transaction\n",
            "\n",
            "  Prefix: /content/conda-env\n",
            "\n",
            "  Updating specs:\n",
            "\n",
            "   - openlane=2023.07.25_2_g01e67230\n",
            "   - open_pdks.sky130a=1.0.428_2_g405227f\n",
            "   - openroad=2.0_9484_g353633e01\n",
            "   - iverilog\n",
            "\n",
            "\n",
            "  Package                              Version  Build                 Channel         Size\n",
            "────────────────────────────────────────────────────────────────────────────────────────────\n",
            "  Install:\n",
            "────────────────────────────────────────────────────────────────────────────────────────────\n",
            "\n",
            "  \u001b[32m+ open_pdks.sky130a \u001b[0m      1.0.428_2_g405227f  20230724_080446       litex-hub\u001b[32m     Cached\u001b[0m\n",
            "  \u001b[32m+ _libgcc_mutex     \u001b[0m                     0.1  main                  main     \u001b[32m     Cached\u001b[0m\n",
            "  \u001b[32m+ libstdcxx-ng      \u001b[0m                  11.2.0  h1234567_1            main     \u001b[32m     Cached\u001b[0m\n",
            "  \u001b[32m+ ca-certificates   \u001b[0m              2023.08.22  h06a4308_0            main     \u001b[32m     Cached\u001b[0m\n",
            "  \u001b[32m+ ld_impl_linux-64  \u001b[0m                    2.38  h1181459_1            main     \u001b[32m     Cached\u001b[0m\n",
            "  \u001b[32m+ libgomp           \u001b[0m                  11.2.0  h1234567_1            main     \u001b[32m     Cached\u001b[0m\n",
            "  \u001b[32m+ _openmp_mutex     \u001b[0m                     5.1  1_gnu                 main     \u001b[32m     Cached\u001b[0m\n",
            "  \u001b[32m+ libgcc-ng         \u001b[0m                  11.2.0  h1234567_1            main     \u001b[32m     Cached\u001b[0m\n",
            "  \u001b[32m+ libuuid           \u001b[0m                  1.41.5  h5eee18b_0            main     \u001b[32m     Cached\u001b[0m\n",
            "  \u001b[32m+ lz4-c             \u001b[0m                   1.9.4  h6a678d5_0            main     \u001b[32m     Cached\u001b[0m\n",
            "  \u001b[32m+ gmp               \u001b[0m                   6.2.1  h295c915_3            main     \u001b[32m     Cached\u001b[0m\n",
            "  \u001b[32m+ pixman            \u001b[0m                  0.40.0  h7f8727e_1            main     \u001b[32m     Cached\u001b[0m\n",
            "  \u001b[32m+ libffi            \u001b[0m                   3.4.4  h6a678d5_0            main     \u001b[32m     Cached\u001b[0m\n",
            "  \u001b[32m+ bzip2             \u001b[0m                   1.0.8  h7b6447c_0            main     \u001b[32m     Cached\u001b[0m\n",
            "  \u001b[32m+ yaml              \u001b[0m                   0.2.5  h7b6447c_0            main     \u001b[32m     Cached\u001b[0m\n",
            "  \u001b[32m+ xz                \u001b[0m                   5.4.2  h5eee18b_0            main     \u001b[32m     Cached\u001b[0m\n",
            "  \u001b[32m+ libxcb            \u001b[0m                    1.15  h7f8727e_0            main     \u001b[32m     Cached\u001b[0m\n",
            "  \u001b[32m+ jpeg              \u001b[0m                      9e  h5eee18b_1            main     \u001b[32m     Cached\u001b[0m\n",
            "  \u001b[32m+ icu               \u001b[0m                    58.2  he6710b0_3            main     \u001b[32m     Cached\u001b[0m\n",
            "  \u001b[32m+ expat             \u001b[0m                   2.5.0  h6a678d5_0            main     \u001b[32m     Cached\u001b[0m\n",
            "  \u001b[32m+ ncurses           \u001b[0m                     6.4  h6a678d5_0            main     \u001b[32m     Cached\u001b[0m\n",
            "  \u001b[32m+ openssl           \u001b[0m                  1.1.1w  h7f8727e_0            main     \u001b[32m     Cached\u001b[0m\n",
            "  \u001b[32m+ pcre              \u001b[0m                    8.45  h295c915_0            main     \u001b[32m     Cached\u001b[0m\n",
            "  \u001b[32m+ fmt               \u001b[0m                   8.1.1  hd09550d_1            main     \u001b[32m     Cached\u001b[0m\n",
            "  \u001b[32m+ zlib              \u001b[0m                  1.2.13  h5eee18b_0            main     \u001b[32m     Cached\u001b[0m\n",
            "  \u001b[32m+ readline          \u001b[0m                     8.2  h5eee18b_0            main     \u001b[32m     Cached\u001b[0m\n",
            "  \u001b[32m+ spdlog            \u001b[0m                   1.9.2  hd09550d_0            main     \u001b[32m     Cached\u001b[0m\n",
            "  \u001b[32m+ zstd              \u001b[0m                   1.5.5  hc292b87_0            main     \u001b[32m     Cached\u001b[0m\n",
            "  \u001b[32m+ libpng            \u001b[0m                  1.6.39  h5eee18b_0            main     \u001b[32m     Cached\u001b[0m\n",
            "  \u001b[32m+ glib              \u001b[0m                  2.69.1  he621ea3_2            main     \u001b[32m     Cached\u001b[0m\n",
            "  \u001b[32m+ tk                \u001b[0m                  8.6.12  h1ccaba5_0            main     \u001b[32m     Cached\u001b[0m\n",
            "  \u001b[32m+ gdbm              \u001b[0m                    1.18  hd4cb3f1_4            main     \u001b[32m     Cached\u001b[0m\n",
            "  \u001b[32m+ sqlite            \u001b[0m                  3.41.2  h5eee18b_0            main     \u001b[32m     Cached\u001b[0m\n",
            "  \u001b[32m+ libboost          \u001b[0m                  1.73.0  h28710b8_12           main     \u001b[32m     Cached\u001b[0m\n",
            "  \u001b[32m+ freetype          \u001b[0m                  2.12.1  h4a9f257_0            main     \u001b[32m     Cached\u001b[0m\n",
            "  \u001b[32m+ gstreamer         \u001b[0m                  1.14.1  h5eee18b_1            main     \u001b[32m     Cached\u001b[0m\n",
            "  \u001b[32m+ dbus              \u001b[0m                 1.13.18  hb2f20db_0            main     \u001b[32m     Cached\u001b[0m\n",
            "  \u001b[32m+ ruby              \u001b[0m                   3.1.2  h006b21b_1            main     \u001b[32m     Cached\u001b[0m\n",
            "  \u001b[32m+ python            \u001b[0m                  3.7.16  h7a1cb2a_0            main     \u001b[32m     Cached\u001b[0m\n",
            "  \u001b[32m+ gst-plugins-base  \u001b[0m                  1.14.1  h6a678d5_1            main     \u001b[32m     Cached\u001b[0m\n",
            "  \u001b[32m+ certifi           \u001b[0m               2022.12.7  py37h06a4308_0        main     \u001b[32m     Cached\u001b[0m\n",
            "  \u001b[32m+ wheel             \u001b[0m                  0.38.4  py37h06a4308_0        main     \u001b[32m     Cached\u001b[0m\n",
            "  \u001b[32m+ setuptools        \u001b[0m                  65.6.3  py37h06a4308_0        main     \u001b[32m     Cached\u001b[0m\n",
            "  \u001b[32m+ pip               \u001b[0m                  22.3.1  py37h06a4308_0        main     \u001b[32m     Cached\u001b[0m\n",
            "  \u001b[32m+ pyyaml            \u001b[0m                     6.0  py37h5eee18b_1        main     \u001b[32m     Cached\u001b[0m\n",
            "  \u001b[32m+ zipp              \u001b[0m                  3.11.0  py37h06a4308_0        main     \u001b[32m     Cached\u001b[0m\n",
            "  \u001b[32m+ libxml2           \u001b[0m                   2.9.9  20220706_155948       litex-hub\u001b[32m     Cached\u001b[0m\n",
            "  \u001b[32m+ iverilog          \u001b[0m     0_8_6866_g36a8a9917  20230724_080446       litex-hub\u001b[32m     Cached\u001b[0m\n",
            "  \u001b[32m+ netgen            \u001b[0m      1.5.258_0_gc0f7ebd  20230724_080446       litex-hub\u001b[32m     Cached\u001b[0m\n",
            "  \u001b[32m+ yosys             \u001b[0m      0.33_11_g31ee566ec  20230724_080446_py37  litex-hub\u001b[32m     Cached\u001b[0m\n",
            "  \u001b[32m+ tcllib            \u001b[0m      1_21_48_gdd08e1c19  20230724_080446       litex-hub\u001b[32m     Cached\u001b[0m\n",
            "  \u001b[32m+ flit-core         \u001b[0m                   3.6.0  pyhd3eb1b0_0          main     \u001b[32m     Cached\u001b[0m\n",
            "  \u001b[32m+ fontconfig        \u001b[0m                  2.13.0  h9420a91_0            main     \u001b[32m     Cached\u001b[0m\n",
            "  \u001b[32m+ typing_extensions \u001b[0m                   4.4.0  py37h06a4308_0        main     \u001b[32m     Cached\u001b[0m\n",
            "  \u001b[32m+ cairo             \u001b[0m                 1.14.12  h8948797_3            main     \u001b[32m     Cached\u001b[0m\n",
            "  \u001b[32m+ qt                \u001b[0m                   5.9.7  h5867ecd_1            main     \u001b[32m     Cached\u001b[0m\n",
            "  \u001b[32m+ importlib-metadata\u001b[0m                  4.11.3  py37h06a4308_0        main     \u001b[32m     Cached\u001b[0m\n",
            "  \u001b[32m+ click             \u001b[0m                   8.0.4  py37h06a4308_0        main     \u001b[32m     Cached\u001b[0m\n",
            "  \u001b[32m+ magic             \u001b[0m      8.3.416_0_g0afe4d8  20230724_080446       litex-hub\u001b[32m     Cached\u001b[0m\n",
            "  \u001b[32m+ klayout           \u001b[0m   0.28.11_32_gadb0b8844  20230724_080446_py37  litex-hub\u001b[32m     Cached\u001b[0m\n",
            "  \u001b[32m+ openroad          \u001b[0m     2.0_9484_g353633e01  20230724_080446_py37  litex-hub\u001b[32m     Cached\u001b[0m\n",
            "  \u001b[32m+ openlane          \u001b[0m  2023.07.25_2_g01e67230  20230724_080446_py37  litex-hub\u001b[32m     Cached\u001b[0m\n",
            "\n",
            "  Summary:\n",
            "\n",
            "  Install: 62 packages\n",
            "\n",
            "  Total download: 0 B\n",
            "\n",
            "────────────────────────────────────────────────────────────────────────────────────────────\n",
            "\n",
            "\n",
            "\n",
            "Transaction starting\n",
            "Linking open_pdks.sky130a-1.0.428_2_g405227f-20230724_080446\n",
            "Linking _libgcc_mutex-0.1-main\n",
            "Linking libstdcxx-ng-11.2.0-h1234567_1\n",
            "Linking ca-certificates-2023.08.22-h06a4308_0\n",
            "Linking ld_impl_linux-64-2.38-h1181459_1\n",
            "Linking libgomp-11.2.0-h1234567_1\n",
            "Linking _openmp_mutex-5.1-1_gnu\n",
            "Linking libgcc-ng-11.2.0-h1234567_1\n",
            "Linking libuuid-1.41.5-h5eee18b_0\n",
            "Linking lz4-c-1.9.4-h6a678d5_0\n",
            "Linking gmp-6.2.1-h295c915_3\n",
            "Linking pixman-0.40.0-h7f8727e_1\n",
            "Linking libffi-3.4.4-h6a678d5_0\n",
            "Linking bzip2-1.0.8-h7b6447c_0\n",
            "Linking yaml-0.2.5-h7b6447c_0\n",
            "Linking xz-5.4.2-h5eee18b_0\n",
            "Linking libxcb-1.15-h7f8727e_0\n",
            "Linking jpeg-9e-h5eee18b_1\n",
            "Linking icu-58.2-he6710b0_3\n",
            "Linking expat-2.5.0-h6a678d5_0\n",
            "Linking ncurses-6.4-h6a678d5_0\n",
            "Linking openssl-1.1.1w-h7f8727e_0\n",
            "Linking pcre-8.45-h295c915_0\n",
            "Linking fmt-8.1.1-hd09550d_1\n",
            "Linking zlib-1.2.13-h5eee18b_0\n",
            "Linking readline-8.2-h5eee18b_0\n",
            "Linking spdlog-1.9.2-hd09550d_0\n",
            "Linking zstd-1.5.5-hc292b87_0\n",
            "Linking libpng-1.6.39-h5eee18b_0\n",
            "Linking glib-2.69.1-he621ea3_2\n",
            "Linking tk-8.6.12-h1ccaba5_0\n",
            "Linking gdbm-1.18-hd4cb3f1_4\n",
            "Linking sqlite-3.41.2-h5eee18b_0\n",
            "Linking libboost-1.73.0-h28710b8_12\n",
            "Linking freetype-2.12.1-h4a9f257_0\n",
            "Linking gstreamer-1.14.1-h5eee18b_1\n",
            "Linking dbus-1.13.18-hb2f20db_0\n",
            "Linking ruby-3.1.2-h006b21b_1\n",
            "Linking python-3.7.16-h7a1cb2a_0\n",
            "Linking gst-plugins-base-1.14.1-h6a678d5_1\n",
            "Linking certifi-2022.12.7-py37h06a4308_0\n",
            "Linking wheel-0.38.4-py37h06a4308_0\n",
            "Linking setuptools-65.6.3-py37h06a4308_0\n",
            "Linking pip-22.3.1-py37h06a4308_0\n",
            "Linking pyyaml-6.0-py37h5eee18b_1\n",
            "Linking zipp-3.11.0-py37h06a4308_0\n",
            "Linking libxml2-2.9.9-20220706_155948\n",
            "Linking iverilog-0_8_6866_g36a8a9917-20230724_080446\n",
            "Linking netgen-1.5.258_0_gc0f7ebd-20230724_080446\n",
            "Linking yosys-0.33_11_g31ee566ec-20230724_080446_py37\n",
            "Linking tcllib-1_21_48_gdd08e1c19-20230724_080446\n",
            "Linking flit-core-3.6.0-pyhd3eb1b0_0\n",
            "Linking fontconfig-2.13.0-h9420a91_0\n",
            "Linking typing_extensions-4.4.0-py37h06a4308_0\n",
            "Linking cairo-1.14.12-h8948797_3\n",
            "Linking qt-5.9.7-h5867ecd_1\n",
            "Linking importlib-metadata-4.11.3-py37h06a4308_0\n",
            "Linking click-8.0.4-py37h06a4308_0\n",
            "Linking magic-8.3.416_0_g0afe4d8-20230724_080446\n",
            "Linking klayout-0.28.11_32_gadb0b8844-20230724_080446_py37\n",
            "Linking openroad-2.0_9484_g353633e01-20230724_080446_py37\n",
            "Linking openlane-2023.07.25_2_g01e67230-20230724_080446_py37\n",
            "\n",
            "Transaction finished\n",
            "\n",
            "To activate this environment, use:\n",
            "\n",
            "    micromamba activate /content/conda-env\n",
            "\n",
            "Or to execute a single command in this environment, use:\n",
            "\n",
            "    micromamba run -p /content/conda-env mycommand\n",
            "\n",
            "Collecting gdstk\n",
            "  Downloading gdstk-0.9.42-cp37-cp37m-manylinux_2_17_x86_64.manylinux2014_x86_64.whl (1.2 MB)\n",
            "\u001b[2K     \u001b[90m━━━━━━━━━━━━━━━━━━━━━━━━━━━━━━━━━━━━━━━━\u001b[0m \u001b[32m1.2/1.2 MB\u001b[0m \u001b[31m16.0 MB/s\u001b[0m eta \u001b[36m0:00:00\u001b[0m\n",
            "\u001b[?25hCollecting numpy\n",
            "  Downloading numpy-1.21.6-cp37-cp37m-manylinux_2_12_x86_64.manylinux2010_x86_64.whl (15.7 MB)\n",
            "\u001b[2K     \u001b[90m━━━━━━━━━━━━━━━━━━━━━━━━━━━━━━━━━━━━━━━━\u001b[0m \u001b[32m15.7/15.7 MB\u001b[0m \u001b[31m44.6 MB/s\u001b[0m eta \u001b[36m0:00:00\u001b[0m\n",
            "\u001b[?25hInstalling collected packages: numpy, gdstk\n",
            "Successfully installed gdstk-0.9.42 numpy-1.21.6\n",
            "\u001b[33mWARNING: Running pip as the 'root' user can result in broken permissions and conflicting behaviour with the system package manager. It is recommended to use a virtual environment instead: https://pip.pypa.io/warnings/venv\u001b[0m\u001b[33m\n",
            "\u001b[0menv: CONDA_PREFIX=/content/conda-env\n",
            "env: PATH=/content/conda-env/bin:/content/conda-env/bin:/opt/bin:/usr/local/nvidia/bin:/usr/local/cuda/bin:/usr/local/sbin:/usr/local/bin:/usr/sbin:/usr/bin:/sbin:/bin:/tools/node/bin:/tools/google-cloud-sdk/bin\n"
          ]
        }
      ],
      "source": [
        "#@title Install dependencies {display-mode: \"form\"}\n",
        "#@markdown - Click the ▷ button to setup the digital design environment based on [conda-eda](https://github.com/hdl/conda-eda).\n",
        "\n",
        "openlane_version = '2023.07.25_2_g01e67230' #@param {type:\"string\"}\n",
        "openroad_version = '2.0_9484_g353633e01' #@param {type:\"string\"}\n",
        "open_pdks_version = '1.0.428_2_g405227f' #@param {type:\"string\"}\n",
        "\n",
        "if openlane_version == 'latest':\n",
        "  openlane_version = ''\n",
        "if open_pdks_version == 'latest':\n",
        "  open_pdks_version = ''\n",
        "if openroad_version == 'latest':\n",
        "  openroad_version = ''\n",
        "\n",
        "import os\n",
        "import pathlib\n",
        "!curl -Ls https://micro.mamba.pm/api/micromamba/linux-64/latest | tar -xj bin/micromamba\n",
        "conda_prefix_path = pathlib.Path('conda-env')\n",
        "CONDA_PREFIX = str(conda_prefix_path.resolve())\n",
        "!bin/micromamba create --yes --prefix $CONDA_PREFIX\n",
        "!echo 'python ==3.7*' >> {CONDA_PREFIX}/conda-meta/pinned\n",
        "!CI=0 bin/micromamba install --yes --prefix $CONDA_PREFIX \\\n",
        "                     --channel litex-hub \\\n",
        "                     --channel main \\\n",
        "                     openlane={openlane_version} \\\n",
        "                     open_pdks.sky130a={open_pdks_version} \\\n",
        "                     openroad={openroad_version} \\\n",
        "                     iverilog\n",
        "!python -m pip install gdstk gdstk\n",
        "PATH = os.environ['PATH']\n",
        "%env CONDA_PREFIX={CONDA_PREFIX}\n",
        "%env PATH={CONDA_PREFIX}/bin:{PATH}\n"
      ]
    },
    {
      "cell_type": "markdown",
      "metadata": {
        "id": "bGODzdWmWntl"
      },
      "source": [
        "# iVerilog and Behavioral Simulations\n",
        "\n",
        "If you are used to running verilog and you would like to perform the behavioral simulations offline, please visit the [IVerilog & GTKWave tutorial](https://cidr.up-microlab.org/index.php/IVerilog_GTKWave_Tutorial#Viewing_the_output_VCD_using_GTKWave) instead.\n",
        "\n",
        "We start with by running simulations with Icarus Verilog."
      ]
    },
    {
      "cell_type": "markdown",
      "metadata": {
        "id": "F6gmpvCyWyyg"
      },
      "source": [
        "## Writing the Verilog files\n",
        "\n",
        "While we already have the RTL files, we need a generate a testbench to run this RTL code. This is an edited version of the testbench from the repository."
      ]
    },
    {
      "cell_type": "code",
      "execution_count": 15,
      "metadata": {
        "colab": {
          "base_uri": "https://localhost:8080/"
        },
        "id": "e3I67T0IVhrh",
        "outputId": "1cae48ab-aa25-4688-8b61-0760882447d9"
      },
      "outputs": [
        {
          "output_type": "stream",
          "name": "stdout",
          "text": [
            "Overwriting tb/fft_top_tb.v\n"
          ]
        }
      ],
      "source": [
        "%%writefile tb/fft_top_tb.v\n",
        "\n",
        "`timescale 1ns/1ps\n",
        "\n",
        "//////////////////////////////////////////////////////////////////////////////////\n",
        "// Engineer: Amey Kulkarni\n",
        "// Design Name: Fast Fourier Transform (16-point)\n",
        "// Module Name:  fft_top_tb\n",
        "// Project Name: Fast Fourier Transform (16-point)\n",
        "//////////////////////////////////////////////////////////////////////////////////\n",
        "\n",
        "module fft_top_tb;\n",
        "\n",
        "   /****************************************************************************\n",
        "    * Signals\n",
        "    ***************************************************************************/\n",
        "\n",
        "   reg                clk;\n",
        "   reg                reset;\n",
        "\n",
        "   reg                in_push;\n",
        "   reg signed [15:0]  in_real;\n",
        "   reg signed [15:0]  in_imag;\n",
        "   wire               in_stall;\n",
        "\n",
        "   wire               out_push;\n",
        "   wire signed [15:0] out_real;\n",
        "   wire signed [15:0] out_imag;\n",
        "   reg                out_stall;\n",
        "\n",
        "   integer            i;\n",
        "   integer            r;\n",
        "\n",
        "\n",
        "\n",
        "   /****************************************************************************\n",
        "    * Generate Clock Signals\n",
        "    ***************************************************************************/\n",
        "\n",
        "   // 250 MHz clock\n",
        "   initial clk = 1'b1;\n",
        "   always #2 clk = ~clk;\n",
        "\n",
        "   /****************************************************************************\n",
        "    * Instantiate Modules\n",
        "    ***************************************************************************/\n",
        "\n",
        "   fft_top fft_top_0 (\n",
        "      .clk        (clk),\n",
        "      .reset      (reset),\n",
        "      .in_push    (in_push),\n",
        "      .in_real    (in_real),\n",
        "      .in_imag    (in_imag),\n",
        "      .in_stall   (in_stall),\n",
        "      .out_push_F (out_push),\n",
        "      .out_real_F (out_real),\n",
        "      .out_imag_F (out_imag),\n",
        "      .out_stall  (out_stall)\n",
        "   );\n",
        "\n",
        "   /****************************************************************************\n",
        "    * Apply Stimulus\n",
        "    ***************************************************************************/\n",
        "\n",
        "   // Record the input data.\n",
        "   initial begin: RECORD_INPUT\n",
        "\n",
        "      integer input_file;\n",
        "      integer count;\n",
        "\n",
        "      count = 0;\n",
        "\n",
        "      input_file = $fopen(\"tb/data_in.m\", \"w\");\n",
        "\n",
        "      $fdisplay(input_file, \"Testing...\");\n",
        "            $fdisplay(input_file, \"Testing...\");\n",
        "\n",
        "      while (count < 16) begin\n",
        "\n",
        "         if (in_push === 1'b1 && in_stall === 1'b0) begin\n",
        "\n",
        "            $display(\"in(%0d) = %0d + i*%0d;\",\n",
        "               count + 1, in_real, in_imag);\n",
        "\n",
        "            $fdisplay(input_file, \"in(%0d) = %0d + i*%0d;\",\n",
        "               count + 1, in_real, in_imag);\n",
        "\n",
        "            count = count + 1;\n",
        "\n",
        "         end\n",
        "\n",
        "         //this is posedge in the original code, causing it to skip the first data point\n",
        "         //being delayed by a single clock cycle, causing the wrong output.\n",
        "         @(negedge clk);\n",
        "\n",
        "      end\n",
        "\n",
        "   end\n",
        "\n",
        "   // Record the output data.\n",
        "   initial begin: RECORD_OUTPUT\n",
        "\n",
        "      integer output_file;\n",
        "      integer count;\n",
        "      integer j;\n",
        "\n",
        "      count = 0;\n",
        "\n",
        "      output_file = $fopen(\"tb/data_out.m\");\n",
        "\n",
        "      while (count < 16) begin\n",
        "\n",
        "         @(posedge clk);\n",
        "\n",
        "         if (out_push === 1'b1 && out_stall === 1'b0) begin\n",
        "\n",
        "            $display(\"out(%0d) = %0d + i*%0d;\",\n",
        "               count + 1, out_real, out_imag);\n",
        "\n",
        "            $fwrite(output_file, \"out(%0d) = %0d + i*%0d;\\n\",\n",
        "               count + 1, out_real, out_imag);\n",
        "\n",
        "            count = count + 1;\n",
        "\n",
        "         end\n",
        "\n",
        "      end\n",
        "\n",
        "   end\n",
        "\n",
        "   // Apply stimulus.\n",
        "   initial begin\n",
        "\n",
        "      $dumpfile(\"sim.vcd\");\n",
        "      $dumpvars(0,fft_top_tb);\n",
        "      repeat (1) @(posedge clk);\n",
        "\n",
        "      reset = 1'b1;\n",
        "      repeat (2) @(posedge clk);\n",
        "\n",
        "      reset = 1'b0;\n",
        "      in_push = 1'b0;\n",
        "      in_real = 0;\n",
        "      in_imag = 0;\n",
        "      out_stall = 0;\n",
        "      repeat (1) @(posedge clk);\n",
        "\n",
        "      $display(\"Pushing input...\");\n",
        "\n",
        "      for (i = 0; i < 16; i = i+1) begin\n",
        "\n",
        "         in_push = 1'b1;\n",
        "\n",
        "         in_real = (i == 0)? 16'h7fff : 0;\n",
        "         in_imag = 0;\n",
        "\n",
        "         repeat (1) @(posedge clk);\n",
        "\n",
        "      end\n",
        "\n",
        "      in_push = 1'b0;\n",
        "      $display(\"Done pushing inputs. Waiting for outputs...\");\n",
        "      repeat (1) @(posedge clk);\n",
        "\n",
        "      for (i = 0; i < 16; i = i+1) begin\n",
        "\n",
        "         while (out_push == 1'b0)\n",
        "            @(posedge clk);\n",
        "\n",
        "         @(posedge clk);\n",
        "\n",
        "      end\n",
        "\n",
        "      repeat (5) @(posedge clk);\n",
        "\n",
        "      $finish;\n",
        "\n",
        "   end\n",
        "\n",
        "endmodule"
      ]
    },
    {
      "cell_type": "markdown",
      "metadata": {
        "id": "ae0iDjX9W6Qk"
      },
      "source": [
        "## Behavioral Simulation\n",
        "\n",
        "Feel free to download and run this offline if you'd like to see the value-change dump in GTKWave.\n",
        "\n",
        "We test the RTL by taking the FFT of a scaled impulse."
      ]
    },
    {
      "cell_type": "code",
      "execution_count": 16,
      "metadata": {
        "id": "iFkSlgCXW9cm"
      },
      "outputs": [],
      "source": [
        "!iverilog -o dsn tb/fft_top_tb.v *.v"
      ]
    },
    {
      "cell_type": "code",
      "execution_count": 17,
      "metadata": {
        "colab": {
          "base_uri": "https://localhost:8080/"
        },
        "id": "ZRbIzGeeXBmw",
        "outputId": "af152389-b384-45c1-f68b-df77642995fb"
      },
      "outputs": [
        {
          "output_type": "stream",
          "name": "stdout",
          "text": [
            "VCD info: dumpfile sim.vcd opened for output.\n",
            "Pushing input...\n",
            "in(1) = 32767 + i*0;\n",
            "in(2) = 0 + i*0;\n",
            "in(3) = 0 + i*0;\n",
            "in(4) = 0 + i*0;\n",
            "in(5) = 0 + i*0;\n",
            "in(6) = 0 + i*0;\n",
            "in(7) = 0 + i*0;\n",
            "in(8) = 0 + i*0;\n",
            "in(9) = 0 + i*0;\n",
            "in(10) = 0 + i*0;\n",
            "in(11) = 0 + i*0;\n",
            "in(12) = 0 + i*0;\n",
            "in(13) = 0 + i*0;\n",
            "in(14) = 0 + i*0;\n",
            "in(15) = 0 + i*0;\n",
            "in(16) = 0 + i*0;\n",
            "Done pushing inputs. Waiting for outputs...\n",
            "out(1) = 2047 + i*0;\n",
            "out(2) = 2047 + i*0;\n",
            "out(3) = 2047 + i*0;\n",
            "out(4) = 2047 + i*0;\n",
            "out(5) = 2047 + i*0;\n",
            "out(6) = 2047 + i*0;\n",
            "out(7) = 2047 + i*0;\n",
            "out(8) = 2047 + i*0;\n",
            "out(9) = 2047 + i*0;\n",
            "out(10) = 2047 + i*0;\n",
            "out(11) = 2047 + i*0;\n",
            "out(12) = 2047 + i*0;\n",
            "out(13) = 2047 + i*0;\n",
            "out(14) = 2047 + i*0;\n",
            "out(15) = 2047 + i*0;\n",
            "out(16) = 2047 + i*0;\n",
            "tb/fft_top_tb.v:175: $finish called at 292000 (1ps)\n"
          ]
        }
      ],
      "source": [
        "!vvp dsn"
      ]
    },
    {
      "cell_type": "markdown",
      "metadata": {
        "id": "F_nvna0mXHoB"
      },
      "source": [
        "# RTL (Verilog) to Layout (GDS) with OpenLane\n",
        "\n",
        "To turn the (non-testbench) verilog files into a layout, we use the **OpenLane** toolset. The cells below are credited to Prof. Bui.\n",
        "\n",
        "We run our simple counter design through [OpenLane](https://github.com/The-OpenROAD-Project/OpenLane/) GDS to RTL flow targeting the [open source SKY130 PDK](https://github.com/google/skywater-pdk/)."
      ]
    },
    {
      "cell_type": "markdown",
      "metadata": {
        "id": "9qZelXyjXKXQ"
      },
      "source": [
        "## Write Configuration File\n",
        "\n",
        "Next, we have to write a configuration file for OpenLane to know the settings for the current run. The possible settings are documented in the [OpenLane documentation](https://openlane.readthedocs.io/en/latest/reference/configuration.html)\n",
        "\n",
        "In the config file below, we:\n",
        "*   Tell OpenLane the design name, which should be the name of your top-level module in your verilog code (*ctr*, in this case).\n",
        "*   List the input verilog files.\n",
        "*   Tell it to find the pin order configuration in a separate file (which we will make soon)\n",
        "*   Give a bunch of other settings for the layout\n",
        "\n",
        "For the baseline, we importantly specify that the core utilization is 20%, allowing ample space for routing without having the layout be too large."
      ]
    },
    {
      "cell_type": "code",
      "execution_count": 18,
      "metadata": {
        "colab": {
          "base_uri": "https://localhost:8080/"
        },
        "id": "wEYgLiraXMtV",
        "outputId": "5f1fe81e-2b46-465b-c82c-a5efadd8ec90"
      },
      "outputs": [
        {
          "output_type": "stream",
          "name": "stdout",
          "text": [
            "Overwriting config.json\n"
          ]
        }
      ],
      "source": [
        "%%writefile config.json\n",
        "{\n",
        "    \"DESIGN_NAME\": \"fft_top\",\n",
        "    \"VERILOG_FILES\": \"dir::*.v\",\n",
        "    \"CLOCK_PORT\": \"clk\",\n",
        "  \t\"FP_PIN_ORDER_CFG\": \"dir::pin_order.cfg\",\n",
        "\t  \"FP_PDN_VOFFSET\": 7,\n",
        "\t  \"FP_PDN_HOFFSET\": 7,\n",
        "\t  \"FP_PDN_SKIPTRIM\": true,\n",
        "  \t\"FP_CORE_UTIL\": 20,\n",
        "  \t\"CLOCK_PERIOD\": 10.0,\n",
        "  \t\"DESIGN_IS_CORE\": true\n",
        "}"
      ]
    },
    {
      "cell_type": "markdown",
      "metadata": {
        "id": "kOhqCf5gXPks"
      },
      "source": [
        "Next, we write down the pin order configurations, which we promised to give OpenLane (in the configuration written above). We specify the CLK and nrst pins to be on the west, while all pins of ctr_out is on the right."
      ]
    },
    {
      "cell_type": "code",
      "execution_count": 19,
      "metadata": {
        "colab": {
          "base_uri": "https://localhost:8080/"
        },
        "id": "UUQR5MbkXNdk",
        "outputId": "afa14515-c5af-4452-c99d-3f06fda694d5"
      },
      "outputs": [
        {
          "output_type": "stream",
          "name": "stdout",
          "text": [
            "Overwriting pin_order.cfg\n"
          ]
        }
      ],
      "source": [
        "%%writefile pin_order.cfg\n",
        "#W\n",
        "clk\n",
        "reset\n",
        "in_push\n",
        "in_real.*\n",
        "in_imag.*\n",
        "out_stall\n",
        "#E\n",
        "in_stall\n",
        "out_push_F\n",
        "out_real_F.*\n",
        "out_imag_F.*"
      ]
    },
    {
      "cell_type": "markdown",
      "metadata": {
        "id": "X6BhJl9lXUyB"
      },
      "source": [
        "## Run OpenLane Flow\n",
        "\n",
        "Next, we run the OpenLane flow.\n",
        "\n",
        "[OpenLane](https://openlane.readthedocs.io/en/latest/) is an automated [RTL](https://en.wikipedia.org/wiki/Register-transfer_level) to [GDSII](https://en.wikipedia.org/wiki/GDSII) flow based on several components including [OpenROAD](https://theopenroadproject.org/), [Yosys](https://yosyshq.net/yosys/), [Magic](http://www.opencircuitdesign.com/magic/), [Netgen](http://opencircuitdesign.com/netgen/) and custom methodology scripts for design exploration and optimization targeting [open source PDKs](https://github.com/google/open-source-pdks).\n",
        "\n",
        "![img](https://openlane.readthedocs.io/en/latest/_images/flow_v1.png)"
      ]
    },
    {
      "cell_type": "markdown",
      "metadata": {
        "id": "z3tErzuEXYiA"
      },
      "source": [
        "We set the target PDK to be Skywater 130nm A, an open-source PDK and then run the OpenLane flow (compiled as a bunch of tcl commands). Running the entire tool flow can take more than an hour for big designs.\n",
        "\n",
        "This flow will also mention if your code has Design Rule (DRC) or Layout-vs-Schematic (LVS) errors, none of which should be present in your design according to the specs of the Chipathon.\n",
        "\n",
        "If you encounter these errors, you may need to recheck your verilog code to make less complex blocks or use better coding practices."
      ]
    },
    {
      "cell_type": "code",
      "execution_count": null,
      "metadata": {
        "colab": {
          "background_save": true,
          "base_uri": "https://localhost:8080/"
        },
        "id": "p8jEHg5SXac6",
        "outputId": "fa1de435-2021-4a01-db00-080ec8a4194d"
      },
      "outputs": [
        {
          "output_type": "stream",
          "name": "stdout",
          "text": [
            "env: PDK=sky130A\n",
            "OpenLane 2023.07.25_2_g01e67230-conda\n",
            "All rights reserved. (c) 2020-2022 Efabless Corporation and contributors.\n",
            "Available under the Apache License, version 2.0. See the LICENSE file for more details.\n",
            "\n",
            "\u001b[36m[INFO]: Using configuration in 'config.json'...\u001b[39m\n",
            "\u001b[36m[INFO]: PDK Root: /content/conda-env/share/pdk\u001b[39m\n",
            "\u001b[36m[INFO]: Process Design Kit: sky130A\u001b[39m\n",
            "\u001b[36m[INFO]: Standard Cell Library: sky130_fd_sc_hd\u001b[39m\n",
            "\u001b[36m[INFO]: Optimization Standard Cell Library: sky130_fd_sc_hd\u001b[39m\n",
            "\u001b[36m[INFO]: Run Directory: /content/runs/RUN_2023.09.18_05.01.29\u001b[39m\n",
            "\u001b[36m[INFO]: Saving runtime environment...\u001b[39m\n",
            "\u001b[36m[INFO]: Preparing LEF files for the nom corner...\u001b[39m\n",
            "\u001b[36m[INFO]: Preparing LEF files for the min corner...\u001b[39m\n",
            "\u001b[36m[INFO]: Preparing LEF files for the max corner...\u001b[39m\n",
            "\u001b[36m[INFO]: Running linter (Verilator) (log: runs/RUN_2023.09.18_05.01.29/logs/synthesis/linter.log)...\u001b[39m\n",
            "\u001b[36m[INFO]: 0 errors found by linter\u001b[39m\n",
            "\u001b[36m[INFO]: 0 warnings found by linter\u001b[39m\n",
            "[STEP 1]\n",
            "\u001b[36m[INFO]: Running Synthesis (log: runs/RUN_2023.09.18_05.01.29/logs/synthesis/1-synthesis.log)...\u001b[39m\n",
            "[STEP 2]\n",
            "\u001b[36m[INFO]: Running Single-Corner Static Timing Analysis (log: runs/RUN_2023.09.18_05.01.29/logs/synthesis/2-sta.log)...\u001b[39m\n",
            "[STEP 3]\n",
            "\u001b[36m[INFO]: Running Initial Floorplanning (log: runs/RUN_2023.09.18_05.01.29/logs/floorplan/3-initial_fp.log)...\u001b[39m\n",
            "\u001b[36m[INFO]: Floorplanned with width 748.42 and height 748.0.\u001b[39m\n",
            "[STEP 4]\n",
            "\u001b[36m[INFO]: Running IO Placement (log: runs/RUN_2023.09.18_05.01.29/logs/floorplan/4-place_io.log)...\u001b[39m\n",
            "[STEP 5]\n",
            "\u001b[36m[INFO]: Running Tap/Decap Insertion (log: runs/RUN_2023.09.18_05.01.29/logs/floorplan/5-tap.log)...\u001b[39m\n",
            "\u001b[36m[INFO]: Power planning with power {VPWR} and ground {VGND}...\u001b[39m\n",
            "[STEP 6]\n",
            "\u001b[36m[INFO]: Generating PDN (log: runs/RUN_2023.09.18_05.01.29/logs/floorplan/6-pdn.log)...\u001b[39m\n",
            "[STEP 7]\n",
            "\u001b[36m[INFO]: Running Global Placement (log: runs/RUN_2023.09.18_05.01.29/logs/placement/7-global.log)...\u001b[39m\n"
          ]
        }
      ],
      "source": [
        "%env PDK=sky130A\n",
        "!flow.tcl -design ."
      ]
    },
    {
      "cell_type": "markdown",
      "metadata": {
        "id": "9Q6_Y4j-XdQZ"
      },
      "source": [
        "## Display Layout\n",
        "\n",
        "Finally, we display the final layout results.\n",
        "\n",
        "The final layout should be found in `runs/results/final/ctr.gds`\n",
        "\n",
        "We can use KLayout to view a PNG of the final layout by running the following code:"
      ]
    },
    {
      "cell_type": "code",
      "execution_count": null,
      "metadata": {
        "colab": {
          "background_save": true
        },
        "id": "NjWoagdCXf7F"
      },
      "outputs": [],
      "source": [
        "import pathlib\n",
        "import gdstk\n",
        "import IPython.display\n",
        "\n",
        "gdss = sorted(pathlib.Path('runs').glob('*/results/final/gds/*.gds'))\n",
        "gds_path = \"%s\" % gdss[-1]\n",
        "print(\"Final GDS: %s\" % gds_path)\n",
        "\n",
        "!apt install xvfb\n",
        "!curl https://raw.githubusercontent.com/The-OpenROAD-Project/OpenLane/mpw-6b/scripts/klayout/scrotLayout.sh -o scrotLayout.sh\n",
        "!curl https://raw.githubusercontent.com/The-OpenROAD-Project/OpenLane/mpw-6b/scripts/klayout/scrotLayout.py -o scrotLayout.py\n",
        "!bash scrotLayout.sh /content/conda-env/share/pdk/sky130A/libs.tech/klayout/tech/sky130A.lyt {gds_path}\n",
        "\n",
        "IPython.display.Image(gds_path + \".png\")"
      ]
    },
    {
      "cell_type": "markdown",
      "metadata": {
        "id": "vMfCXKicXkAI"
      },
      "source": [
        "You can also download the final `.gds` file for the layout using the following code snippet. *Skip this if you are running the notebook from your own PC*"
      ]
    },
    {
      "cell_type": "code",
      "execution_count": null,
      "metadata": {
        "colab": {
          "background_save": true
        },
        "id": "267yoeWOXlD9"
      },
      "outputs": [],
      "source": [
        "from google.colab import files\n",
        "files.download(gds_path)"
      ]
    },
    {
      "cell_type": "markdown",
      "metadata": {
        "id": "ZNKUgRotXoKB"
      },
      "source": [
        "You can use KLayout on your own PC to view the final layout in an interactive manner from the `.gds` file. You may download KLayout from the [website](https://www.klayout.de/build.html).\n",
        "\n",
        "Once you have KLayout downloaded, you can open KLayout and open the .gds file using *File > Open*,\n",
        "\n",
        "To view the layout with useful layer information (like layer names), you can download this [Layer Properties File](https://github.com/laurentc2/SKY130_for_KLayout/blob/main/SKY130.lyp) from Github and then open it from KLayout with *File > Load Layer Properties*."
      ]
    },
    {
      "cell_type": "markdown",
      "metadata": {
        "id": "LlBp_BH_XqUW"
      },
      "source": [
        "## Metrics\n",
        "\n",
        "Use the code below to view the performance metrics of your design"
      ]
    },
    {
      "cell_type": "code",
      "execution_count": null,
      "metadata": {
        "colab": {
          "background_save": true
        },
        "id": "-187_Fr1XshT"
      },
      "outputs": [],
      "source": [
        "import pandas as pd\n",
        "import pathlib\n",
        "\n",
        "pd.options.display.max_rows = None\n",
        "reports = sorted(pathlib.Path('runs').glob('*/reports/metrics.csv'))\n",
        "df = pd.read_csv(reports[-1])\n",
        "df.transpose()"
      ]
    },
    {
      "cell_type": "markdown",
      "metadata": {
        "id": "wjtSvFUDXuut"
      },
      "source": [
        "## Figure of Merit\n",
        "\n",
        "Run the code below to calculate your work's figure of merit. Replace the latency variable with the time of your simulation at $finish."
      ]
    },
    {
      "cell_type": "code",
      "execution_count": null,
      "metadata": {
        "colab": {
          "background_save": true
        },
        "id": "YaQSzMU7Xw0U"
      },
      "outputs": [],
      "source": [
        "# PLACE YOUR LATENCY HERE IN NS (called at finish time)\n",
        "latency = 292 #In this baseline, it was 292000 (1ps), so we divide by 1000.\n",
        "\n",
        "power = df['power_typical_switching_uW'] + df['power_typical_internal_uW']\n",
        "area = df['CoreArea_um^2']\n",
        "\n",
        "# Metric should be as low as possible\n",
        "FoM = latency * power * area\n",
        "print(f'The design FoM is: {FoM.to_numpy()[0]}')"
      ]
    },
    {
      "cell_type": "markdown",
      "metadata": {
        "id": "BMUMmPcBXxV4"
      },
      "source": [
        "# Using your own code\n",
        "\n",
        "You may replace the code verilog codes above with your own code, or upload .v files to the \"files\" inside Colab (folder icon on the left) and run the code above on those.\n",
        "\n",
        "Of course, you'll have to edit the config files. The workflow will be as follows:\n",
        "\n",
        "1. Upload .v files\n",
        "2. Run iverilog and vvp on your verilog files & testbench\n",
        "3. Edit the OpenLane config file config.json with your design name, verilog file names.\n",
        "4. Edit the pin orders file pin_order.cfg with your top-level input and output pins.\n",
        "\n",
        "An example by Prof. Duy-Hieu Bui of this tool flow with a bigger design can be found in the [GCD Example](https://colab.research.google.com/drive/14GOFCUxp1P3dBOVYN1-kW5XjANir56yA?usp=sharing)\n",
        "\n",
        "## ! IMPORTANT NOTE !\n",
        "\n",
        "Note that any changes to this notebook (like your own verilog code) cannot be saved. I would recommend having an offline version of your verilog codes, or making a copy of this notebook in your own google drive in order to be able to save changes.\n",
        "\n",
        "# Contacts\n",
        "\n",
        "For any concerns about this tool flow or tutorials, contact lawrence.quizon@eee.upd.edu.ph\n",
        "\n",
        "For other concerns, like accommodation, please contact seacas2023@eee.upd.edu.ph\n"
      ]
    }
  ],
  "metadata": {
    "colab": {
      "provenance": [],
      "authorship_tag": "ABX9TyOH//rPg200ps0+ufGqedP1",
      "include_colab_link": true
    },
    "kernelspec": {
      "display_name": "Python 3",
      "name": "python3"
    },
    "language_info": {
      "name": "python"
    }
  },
  "nbformat": 4,
  "nbformat_minor": 0
}